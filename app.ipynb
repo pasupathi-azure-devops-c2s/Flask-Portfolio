{
 "cells": [
  {
   "cell_type": "code",
   "execution_count": null,
   "id": "538a6fda",
   "metadata": {
    "scrolled": true
   },
   "outputs": [],
   "source": [
    "!pip install flask"
   ]
  },
  {
   "cell_type": "code",
   "execution_count": null,
   "id": "20b3a6f3",
   "metadata": {
    "scrolled": false
   },
   "outputs": [],
   "source": [
    "from flask import Flask, render_template"
   ]
  },
  {
   "cell_type": "code",
   "execution_count": null,
   "id": "238c5515",
   "metadata": {},
   "outputs": [],
   "source": [
    "app = Flask(__name__, template_folder='Template', static_folder='Static')\n"
   ]
  },
  {
   "cell_type": "code",
   "execution_count": null,
   "id": "fee9c538",
   "metadata": {
    "scrolled": true
   },
   "outputs": [],
   "source": [
    "@app.route('/')\n",
    "@app.route('/main_page')\n",
    "\n",
    "def home_page():\n",
    "    return render_template('Main.html')\n",
    " "
   ]
  },
  {
   "cell_type": "code",
   "execution_count": null,
   "id": "f62a09b4",
   "metadata": {
    "scrolled": true
   },
   "outputs": [],
   "source": [
    "\n",
    "if __name__=='__home_page__':\n",
    "    app.run(debug=True)\n",
    "\n",
    "\n"
   ]
  },
  {
   "cell_type": "code",
   "execution_count": null,
   "id": "beee51aa",
   "metadata": {},
   "outputs": [],
   "source": [
    "from flask import Flask, render_template\n",
    "\n",
    "app = Flask(__name__)\n",
    "\n",
    "@app.route('/')\n",
    "def index():\n",
    "    url='Template/Main.html'\n",
    "    return render_template(url)\n",
    "\n",
    "if __name__ == '__main__':\n",
    "    app.run()\n"
   ]
  },
  {
   "cell_type": "code",
   "execution_count": null,
   "id": "57dc20d8",
   "metadata": {},
   "outputs": [
    {
     "name": "stdout",
     "output_type": "stream",
     "text": [
      " * Serving Flask app '__main__'\n",
      " * Debug mode: off\n"
     ]
    },
    {
     "name": "stderr",
     "output_type": "stream",
     "text": [
      "WARNING: This is a development server. Do not use it in a production deployment. Use a production WSGI server instead.\n",
      " * Running on http://127.0.0.1:5000\n",
      "Press CTRL+C to quit\n",
      "127.0.0.1 - - [10/Jul/2023 18:40:52] \"GET / HTTP/1.1\" 200 -\n",
      "127.0.0.1 - - [10/Jul/2023 18:40:53] \"GET /hello HTTP/1.1\" 200 -\n"
     ]
    }
   ],
   "source": [
    "from flask import Flask, url_for\n",
    "\n",
    "app = Flask(__name__)\n",
    "\n",
    "@app.route('/')\n",
    "def index():\n",
    "    return '<a href=\"' + url_for('hello') + '\">Go to Hello</a>'\n",
    "\n",
    "@app.route('/hello')\n",
    "def hello():\n",
    "    return 'Hello, World!'\n",
    "\n",
    "if __name__ == '__main__':\n",
    "    app.run()\n"
   ]
  },
  {
   "cell_type": "code",
   "execution_count": null,
   "id": "f0ce552d",
   "metadata": {
    "scrolled": true
   },
   "outputs": [],
   "source": [
    "!pip install Flask_Limiter"
   ]
  },
  {
   "cell_type": "code",
   "execution_count": null,
   "id": "84a540e2",
   "metadata": {},
   "outputs": [],
   "source": [
    "from flask import Flask, render_template, request\n",
    "from flask_limiter import Limiter\n",
    "from flask_limiter.util import get_remote_address\n",
    "\n",
    "app = Flask(__name__)\n",
    "limiter = Limiter(app, key_func=get_remote_address)\n",
    "\n",
    "# Throttle requests to 10 requests per minute\n",
    "@app.route('/', methods=['GET'])\n",
    "@limiter.limit(\"10/minute\")\n",
    "def index():\n",
    "    url='C:\\\\Users\\\\Pasupathikumar.s\\\\Desktop\\\\NextBrainCompany\\\\Portfolio\\\\Template\\\\Main.html'\n",
    "    return render_template(url)\n",
    "\n",
    "if __name__ == '__main__':\n",
    "    app.run()\n"
   ]
  },
  {
   "cell_type": "code",
   "execution_count": null,
   "id": "bc2d6a8d",
   "metadata": {},
   "outputs": [],
   "source": [
    "\n",
    "from flask import Flask, render_template\n",
    "from flask_limiter import Limiter\n",
    "from flask_limiter.util import get_remote_address\n",
    "\n",
    "app = Flask(__name__)\n",
    "limiter = Limiter(app)\n",
    "\n",
    "# Throttle requests to 10 requests per minute\n",
    "@app.route('/', methods=['GET'])\n",
    "@limiter.limit(\"10/minute\")\n",
    "def index():\n",
    "    url=\"C:\\\\Users\\\\Pasupathikumar.s\\\\Desktop\\\\NextBrainCompany\\\\Portfolio\\\\Template\\\\Main.html\"\n",
    "    return render_template(url)\n",
    "\n",
    "if __name__ == '__main__':\n",
    "    app.run(debug=True)\n"
   ]
  },
  {
   "cell_type": "code",
   "execution_count": null,
   "id": "30861edc",
   "metadata": {},
   "outputs": [],
   "source": []
  }
 ],
 "metadata": {
  "kernelspec": {
   "display_name": "Python 3 (ipykernel)",
   "language": "python",
   "name": "python3"
  },
  "language_info": {
   "codemirror_mode": {
    "name": "ipython",
    "version": 3
   },
   "file_extension": ".py",
   "mimetype": "text/x-python",
   "name": "python",
   "nbconvert_exporter": "python",
   "pygments_lexer": "ipython3",
   "version": "3.10.9"
  }
 },
 "nbformat": 4,
 "nbformat_minor": 5
}
